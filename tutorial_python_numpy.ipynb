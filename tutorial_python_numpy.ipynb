{
  "nbformat": 4,
  "nbformat_minor": 0,
  "metadata": {
    "colab": {
      "name": "tutorial_python_numpy.ipynb",
      "version": "0.3.2",
      "provenance": [],
      "collapsed_sections": [],
      "include_colab_link": true
    },
    "kernelspec": {
      "name": "python3",
      "display_name": "Python 3"
    }
  },
  "cells": [
    {
      "cell_type": "markdown",
      "metadata": {
        "id": "view-in-github",
        "colab_type": "text"
      },
      "source": [
        "<a href=\"https://colab.research.google.com/github/stephen2run/colab/blob/master/tutorial_python_numpy.ipynb\" target=\"_parent\"><img src=\"https://colab.research.google.com/assets/colab-badge.svg\" alt=\"Open In Colab\"/></a>"
      ]
    },
    {
      "metadata": {
        "id": "Gdx4EvkQLqrA",
        "colab_type": "text"
      },
      "cell_type": "markdown",
      "source": [
        "Python is a high-level, dynamically typed multiparadigm programming language. Python code is often said to be almost like pseudocode, since it allows you to express very powerful ideas in very few lines of code while being very readable. As an example, here is an implementation of the classic quicksort algorithm in Python"
      ]
    },
    {
      "metadata": {
        "id": "y-gdbs0nMDMF",
        "colab_type": "code",
        "colab": {
          "base_uri": "https://localhost:8080/",
          "height": 124
        },
        "outputId": "b96bf27f-4f0b-4713-ec8a-e301653f809f"
      },
      "cell_type": "code",
      "source": [
        "!python --version"
      ],
      "execution_count": 4,
      "outputs": [
        {
          "output_type": "stream",
          "text": [
            "Python 3.6.7\n"
          ],
          "name": "stdout"
        }
      ]
    },
    {
      "metadata": {
        "id": "6V_YFQV8Khvb",
        "colab_type": "code",
        "colab": {
          "base_uri": "https://localhost:8080/",
          "height": 436
        },
        "outputId": "f4b72e75-f83f-4803-b79b-e60c8a5ecf8e"
      },
      "cell_type": "code",
      "source": [
        "def quicksort(arr):\n",
        "    if len(arr) <= 1:\n",
        "        return arr\n",
        "\n",
        "    pivot = arr[len(arr) // 2]\n",
        "    print(len(arr), len(arr)//2, pivot)\n",
        "    left = [x for x in arr if x < pivot]\n",
        "    print(\"left {}\".format(left))\n",
        "    middle = [x for x in arr if x == pivot]\n",
        "    print(\"middle {}\".format(middle))\n",
        "    right = [x for x in arr if x > pivot]\n",
        "    print(\"right {}\".format(right))\n",
        "    return quicksort(left) + middle + quicksort(right)\n",
        "\n",
        "print(quicksort([3,6,8,10,1,2,1]))"
      ],
      "execution_count": 9,
      "outputs": [
        {
          "output_type": "stream",
          "text": [
            "7 3 10\n",
            "left [3, 6, 8, 1, 2, 1]\n",
            "middle [10]\n",
            "right []\n",
            "6 3 1\n",
            "left []\n",
            "middle [1, 1]\n",
            "right [3, 6, 8, 2]\n",
            "4 2 8\n",
            "left [3, 6, 2]\n",
            "middle [8]\n",
            "right []\n",
            "3 1 6\n",
            "left [3, 2]\n",
            "middle [6]\n",
            "right []\n",
            "2 1 2\n",
            "left []\n",
            "middle [2]\n",
            "right [3]\n",
            "[1, 1, 2, 3, 6, 8, 10]\n"
          ],
          "name": "stdout"
        }
      ]
    },
    {
      "metadata": {
        "id": "Sf1LAecdMSUd",
        "colab_type": "text"
      },
      "cell_type": "markdown",
      "source": [
        "**Basic data types**\n",
        "\n",
        "Like most languages, Python has a number of basic types including integers, floats, booleans, and strings. These data types behave in ways that are familiar from other programming languages.\n",
        "\n",
        "Numbers: Integers and floats work as you would expect from other languages:"
      ]
    },
    {
      "metadata": {
        "id": "A9U0-KNCMRMD",
        "colab_type": "code",
        "colab": {
          "base_uri": "https://localhost:8080/",
          "height": 248
        },
        "outputId": "feeddae9-7f55-4135-808b-fced84435117"
      },
      "cell_type": "code",
      "source": [
        "x = 3\n",
        "print(type(x)) # Prints \"<class 'int'>\"\n",
        "print(x)       # Prints \"3\"\n",
        "print(x + 1)   # Addition; prints \"4\"\n",
        "print(x - 1)   # Subtraction; prints \"2\"\n",
        "print(x * 2)   # Multiplication; prints \"6\"\n",
        "print(x ** 2)  # Exponentiation; prints \"9\"\n",
        "x += 1\n",
        "print(x)  # Prints \"4\"\n",
        "x *= 2\n",
        "print(x)  # Prints \"8\"\n",
        "y = 2.5\n",
        "print(type(y)) # Prints \"<class 'float'>\"\n",
        "print(y, y + 1, y * 2, y ** 2) # Prints \"2.5 3.5 5.0 6.25\""
      ],
      "execution_count": 10,
      "outputs": [
        {
          "output_type": "stream",
          "text": [
            "<class 'int'>\n",
            "3\n",
            "4\n",
            "2\n",
            "6\n",
            "9\n",
            "4\n",
            "8\n",
            "<class 'float'>\n",
            "2.5 3.5 5.0 6.25\n"
          ],
          "name": "stdout"
        }
      ]
    },
    {
      "metadata": {
        "id": "lXst5xkaPlsi",
        "colab_type": "text"
      },
      "cell_type": "markdown",
      "source": [
        "Note that unlike many languages, Python does not have unary increment (x++) or decrement (x--) operators.\n",
        "Python also has built-in types for complex numbers;\n",
        "\n",
        "Booleans: Python implements all of the usual operators for Boolean logic, but uses English words rather than symbols (&&, ||, etc.):"
      ]
    },
    {
      "metadata": {
        "id": "m6ttHMt3P9Ju",
        "colab_type": "code",
        "colab": {
          "base_uri": "https://localhost:8080/",
          "height": 164
        },
        "outputId": "da8e85d2-87c0-4eec-84cb-3d4bac12984f"
      },
      "cell_type": "code",
      "source": [
        "t = True\n",
        "f = False\n",
        "print(type(t)) # Prints \"<class 'bool'>\"\n",
        "print(t and f) # Logical AND; prints \"False\"\n",
        "print(t or f)  # Logical OR; prints \"True\"\n",
        "print(not t)   # Logical NOT; prints \"False\"\n",
        "print(t != f)  # Logical XOR; prints \"True\""
      ],
      "execution_count": 11,
      "outputs": [
        {
          "output_type": "stream",
          "text": [
            "<class 'bool'>\n",
            "False\n",
            "True\n",
            "False\n",
            "True\n"
          ],
          "name": "stdout"
        }
      ]
    },
    {
      "metadata": {
        "id": "PFZMnUR7TIQN",
        "colab_type": "text"
      },
      "cell_type": "markdown",
      "source": [
        "Strings: Python has great support for strings:"
      ]
    },
    {
      "metadata": {
        "id": "2T5hevJ6TJas",
        "colab_type": "code",
        "colab": {
          "base_uri": "https://localhost:8080/",
          "height": 148
        },
        "outputId": "82fd6f99-210d-4d2d-dfda-51a031d87135"
      },
      "cell_type": "code",
      "source": [
        "hello = 'hello'    # String literals can use single quotes\n",
        "world = \"world\"    # or double quotes; it does not matter.\n",
        "print(hello)       # Prints \"hello\"\n",
        "print(len(hello))  # String length; prints \"5\"\n",
        "hw = hello + ' ' + world  # String concatenation\n",
        "print(hw)  # prints \"hello world\"\n",
        "hw12 = '%s %s %d' % (hello, world, 12)  # sprintf style string formatting\n",
        "print(hw12)  # prints \"hello world 12\""
      ],
      "execution_count": 12,
      "outputs": [
        {
          "output_type": "stream",
          "text": [
            "hello\n",
            "5\n",
            "hello world\n",
            "hello world 12\n"
          ],
          "name": "stdout"
        }
      ]
    },
    {
      "metadata": {
        "id": "TwvTJ4VJTP5u",
        "colab_type": "text"
      },
      "cell_type": "markdown",
      "source": [
        "String objects have a bunch of useful methods; for example:"
      ]
    },
    {
      "metadata": {
        "id": "1-bYSeh5TQpj",
        "colab_type": "code",
        "colab": {
          "base_uri": "https://localhost:8080/",
          "height": 180
        },
        "outputId": "28f63f81-b29a-44f3-fe4a-be4543d3c0fb"
      },
      "cell_type": "code",
      "source": [
        "s = \"hello\"\n",
        "print(s.capitalize())  # Capitalize a string; prints \"Hello\"\n",
        "print(s.upper())       # Convert a string to uppercase; prints \"HELLO\"\n",
        "print(s.rjust(7))      # Right-justify a string, padding with spaces; prints \"  hello\"\n",
        "print(s.center(7))     # Center a string, padding with spaces; prints \" hello \"\n",
        "print(s.replace('l', '(ell)'))  # Replace all instances of one substring with another;\n",
        "                                # prints \"he(ell)(ell)o\"\n",
        "print('  world '.strip())  # Strip leading and trailing whitespace; prints \"world\""
      ],
      "execution_count": 13,
      "outputs": [
        {
          "output_type": "stream",
          "text": [
            "Hello\n",
            "HELLO\n",
            "  hello\n",
            " hello \n",
            "he(ell)(ell)o\n",
            "world\n"
          ],
          "name": "stdout"
        }
      ]
    },
    {
      "metadata": {
        "id": "EQ__iS5DThLm",
        "colab_type": "text"
      },
      "cell_type": "markdown",
      "source": [
        "**Containers**\n",
        "\n",
        "Python includes several built-in container types: lists, dictionaries, sets, and tuples.\n",
        "\n",
        "**Lists**\n",
        "\n",
        "A list is the Python equivalent of an array, but is resizeable and can contain elements of different types:"
      ]
    },
    {
      "metadata": {
        "id": "ejRMaiQvTkku",
        "colab_type": "code",
        "colab": {
          "base_uri": "https://localhost:8080/",
          "height": 164
        },
        "outputId": "8ffc07e0-f24e-4088-9ecb-1e32ed8982ce"
      },
      "cell_type": "code",
      "source": [
        "xs = [3, 1, 2]    # Create a list\n",
        "print(xs, xs[2])  # Prints \"[3, 1, 2] 2\"\n",
        "print(xs[-1])     # Negative indices count from the end of the list; prints \"2\"\n",
        "xs[2] = 'foo'     # Lists can contain elements of different types\n",
        "print(xs)         # Prints \"[3, 1, 'foo']\"\n",
        "xs.append('bar')  # Add a new element to the end of the list\n",
        "print(xs)         # Prints \"[3, 1, 'foo', 'bar']\"\n",
        "x = xs.pop()      # Remove and return the last element of the list\n",
        "print(x, xs)      # Prints \"bar [3, 1, 'foo']\""
      ],
      "execution_count": 14,
      "outputs": [
        {
          "output_type": "stream",
          "text": [
            "[3, 1, 2] 2\n",
            "2\n",
            "[3, 1, 'foo']\n",
            "[3, 1, 'foo', 'bar']\n",
            "bar [3, 1, 'foo']\n"
          ],
          "name": "stdout"
        }
      ]
    },
    {
      "metadata": {
        "id": "k29VT2hBUKCk",
        "colab_type": "text"
      },
      "cell_type": "markdown",
      "source": [
        "Slicing: In addition to accessing list elements one at a time, Python provides concise syntax to access sublists; this is known as slicing:"
      ]
    },
    {
      "metadata": {
        "id": "k8mkaSEkUMz5",
        "colab_type": "code",
        "colab": {
          "base_uri": "https://localhost:8080/",
          "height": 196
        },
        "outputId": "06694dbe-f530-47e7-a3e7-c09e4d491686"
      },
      "cell_type": "code",
      "source": [
        "nums = list(range(5))     # range is a built-in function that creates a list of integers\n",
        "print(nums)               # Prints \"[0, 1, 2, 3, 4]\"\n",
        "print(nums[2:4])          # Get a slice from index 2 to 4 (exclusive); prints \"[2, 3]\"\n",
        "print(nums[2:])           # Get a slice from index 2 to the end; prints \"[2, 3, 4]\"\n",
        "print(nums[:2])           # Get a slice from the start to index 2 (exclusive); prints \"[0, 1]\"\n",
        "print(nums[:])            # Get a slice of the whole list; prints \"[0, 1, 2, 3, 4]\"\n",
        "print(nums[:-1])          # Slice indices can be negative; prints \"[0, 1, 2, 3]\"\n",
        "nums[2:4] = [8, 9]        # Assign a new sublist to a slice\n",
        "print(nums)               # Prints \"[0, 1, 8, 9, 4]\""
      ],
      "execution_count": 15,
      "outputs": [
        {
          "output_type": "stream",
          "text": [
            "[0, 1, 2, 3, 4]\n",
            "[2, 3]\n",
            "[2, 3, 4]\n",
            "[0, 1]\n",
            "[0, 1, 2, 3, 4]\n",
            "[0, 1, 2, 3]\n",
            "[0, 1, 8, 9, 4]\n"
          ],
          "name": "stdout"
        }
      ]
    },
    {
      "metadata": {
        "id": "VTkr66M-O7Hs",
        "colab_type": "text"
      },
      "cell_type": "markdown",
      "source": [
        "Loops: You can loop over the elements of a list like this:"
      ]
    },
    {
      "metadata": {
        "id": "pn_97sOWO-AZ",
        "colab_type": "code",
        "colab": {
          "base_uri": "https://localhost:8080/",
          "height": 110
        },
        "outputId": "cef4a206-d7eb-44f8-94a4-554a7d060153"
      },
      "cell_type": "code",
      "source": [
        "animals = ['cat', 'dog', 'monkey']\n",
        "for animal in animals:\n",
        "    print(animal)\n",
        "# Prints \"cat\", \"dog\", \"monkey\", each on its own line."
      ],
      "execution_count": 16,
      "outputs": [
        {
          "output_type": "stream",
          "text": [
            "cat\n",
            "dog\n",
            "monkey\n"
          ],
          "name": "stdout"
        }
      ]
    },
    {
      "metadata": {
        "id": "NLfkkWNUPG9G",
        "colab_type": "text"
      },
      "cell_type": "markdown",
      "source": [
        "If you want access to the index of each element within the body of a loop, use the built-in enumerate function:"
      ]
    },
    {
      "metadata": {
        "id": "u43CL0e4PHt9",
        "colab_type": "code",
        "colab": {
          "base_uri": "https://localhost:8080/",
          "height": 110
        },
        "outputId": "60fe5039-0263-4966-faee-e6d929d1cd2e"
      },
      "cell_type": "code",
      "source": [
        "animals = ['cat', 'dog', 'monkey']\n",
        "for idx, animal in enumerate(animals):\n",
        "    print('#%d: %s' % (idx + 1, animal))\n",
        "# Prints \"#1: cat\", \"#2: dog\", \"#3: monkey\", each on its own line"
      ],
      "execution_count": 17,
      "outputs": [
        {
          "output_type": "stream",
          "text": [
            "#1: cat\n",
            "#2: dog\n",
            "#3: monkey\n"
          ],
          "name": "stdout"
        }
      ]
    },
    {
      "metadata": {
        "id": "c6-A3StvPRwJ",
        "colab_type": "text"
      },
      "cell_type": "markdown",
      "source": [
        "List comprehensions: When programming, frequently we want to transform one type of data into another. As a simple example, consider the following code that computes square numbers:"
      ]
    },
    {
      "metadata": {
        "id": "lLHitVdRPSqd",
        "colab_type": "code",
        "colab": {
          "base_uri": "https://localhost:8080/",
          "height": 76
        },
        "outputId": "c10217eb-91f3-4972-812a-4cc264bb8717"
      },
      "cell_type": "code",
      "source": [
        "nums = [0, 1, 2, 3, 4]\n",
        "squares = []\n",
        "for x in nums:\n",
        "    squares.append(x ** 2)\n",
        "print(squares)   # Prints [0, 1, 4, 9, 16]"
      ],
      "execution_count": 18,
      "outputs": [
        {
          "output_type": "stream",
          "text": [
            "[0, 1, 4, 9, 16]\n"
          ],
          "name": "stdout"
        }
      ]
    },
    {
      "metadata": {
        "id": "5A1ppiXYQ0xm",
        "colab_type": "text"
      },
      "cell_type": "markdown",
      "source": [
        "You can make this code simpler using a list comprehension:"
      ]
    },
    {
      "metadata": {
        "id": "sWyDqEBJQ0fq",
        "colab_type": "code",
        "colab": {
          "base_uri": "https://localhost:8080/",
          "height": 76
        },
        "outputId": "dd37f85c-bbd6-4e8d-dca7-ad98f70b663a"
      },
      "cell_type": "code",
      "source": [
        "nums = [0, 1, 2, 3, 4]\n",
        "squares = [x ** 2 for x in nums]\n",
        "print(squares)   # Prints [0, 1, 4, 9, 16]"
      ],
      "execution_count": 19,
      "outputs": [
        {
          "output_type": "stream",
          "text": [
            "[0, 1, 4, 9, 16]\n"
          ],
          "name": "stdout"
        }
      ]
    },
    {
      "metadata": {
        "id": "Oc3yWvC7RicY",
        "colab_type": "text"
      },
      "cell_type": "markdown",
      "source": [
        "List comprehensions can also contain conditions:"
      ]
    },
    {
      "metadata": {
        "id": "kJ6NpS3uRrwQ",
        "colab_type": "code",
        "colab": {
          "base_uri": "https://localhost:8080/",
          "height": 92
        },
        "outputId": "bb2c2723-8562-42e3-dc78-8e37aeae8e4c"
      },
      "cell_type": "code",
      "source": [
        "nums = [0, 1, 2, 3, 4]\n",
        "even_squares = [x ** 2 for x in nums if x % 2 == 0]\n",
        "print(even_squares)  # Prints \"[0, 4, 16]\"\n",
        "odd_squares = [x ** 2 for x in nums if x % 2 != 0]\n",
        "print(odd_squares)"
      ],
      "execution_count": 21,
      "outputs": [
        {
          "output_type": "stream",
          "text": [
            "[0, 4, 16]\n",
            "[1, 9]\n"
          ],
          "name": "stdout"
        }
      ]
    },
    {
      "metadata": {
        "id": "cKFobSrSSGhf",
        "colab_type": "text"
      },
      "cell_type": "markdown",
      "source": [
        "**Dictionaries**\n",
        "\n",
        "A dictionary stores (key, value) pairs, similar to a Map in Java or an object in Javascript. You can use it like this:"
      ]
    },
    {
      "metadata": {
        "id": "t2oKkJRHSJLI",
        "colab_type": "code",
        "colab": {
          "base_uri": "https://localhost:8080/",
          "height": 162
        },
        "outputId": "443c3da0-92a8-4229-8d6f-d0e3d92d77dc"
      },
      "cell_type": "code",
      "source": [
        "d = {'cat': 'cute', 'dog': 'furry'}  # Create a new dictionary with some data\n",
        "print(d['cat'])       # Get an entry from a dictionary; prints \"cute\"\n",
        "print('cat' in d)     # Check if a dictionary has a given key; prints \"True\"\n",
        "d['fish'] = 'wet'     # Set an entry in a dictionary\n",
        "print(d['fish'])      # Prints \"wet\"\n",
        "# print(d['monkey'])  # KeyError: 'monkey' not a key of d\n",
        "print(d.get('monkey', 'N/A'))  # Get an element with a default; prints \"N/A\"\n",
        "print(d.get('fish', 'N/A'))    # Get an element with a default; prints \"wet\"\n",
        "del d['fish']         # Remove an element from a dictionary\n",
        "print(d.get('fish', 'N/A')) # \"fish\" is no longer a key; prints \"N/A\""
      ],
      "execution_count": 22,
      "outputs": [
        {
          "output_type": "stream",
          "text": [
            "cute\n",
            "True\n",
            "wet\n",
            "N/A\n",
            "wet\n",
            "N/A\n"
          ],
          "name": "stdout"
        }
      ]
    },
    {
      "metadata": {
        "id": "JGmXs3DiVxS6",
        "colab_type": "text"
      },
      "cell_type": "markdown",
      "source": [
        "Loops: It is easy to iterate over the keys in a dictionary:"
      ]
    },
    {
      "metadata": {
        "id": "WwGQ7d8hVzq8",
        "colab_type": "code",
        "colab": {
          "base_uri": "https://localhost:8080/",
          "height": 132
        },
        "outputId": "7f2990af-8066-4124-cbde-2748e2ecc46e"
      },
      "cell_type": "code",
      "source": [
        "d = {'person': 2, 'cat': 4, 'spider': 8}\n",
        "for animal in d:\n",
        "    legs = d[animal]\n",
        "    print('A %s has %d legs' % (animal, legs))\n",
        "# Prints \"A person has 2 legs\", \"A cat has 4 legs\", \"A spider has 8 legs\""
      ],
      "execution_count": 23,
      "outputs": [
        {
          "output_type": "stream",
          "text": [
            "A person has 2 legs\n",
            "A cat has 4 legs\n",
            "A spider has 8 legs\n"
          ],
          "name": "stdout"
        }
      ]
    }
  ]
}